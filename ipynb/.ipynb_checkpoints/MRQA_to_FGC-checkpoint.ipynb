{
 "cells": [
  {
   "cell_type": "code",
   "execution_count": 1,
   "metadata": {},
   "outputs": [],
   "source": [
    "import os\n",
    "import gzip\n",
    "import json\n",
    "from os.path import join"
   ]
  },
  {
   "cell_type": "code",
   "execution_count": 2,
   "metadata": {},
   "outputs": [
    {
     "name": "stdout",
     "output_type": "stream",
     "text": [
      "['train', '.git', 'dev_out', 'download_out_of_domain_dev.sh', 'predict_server.py', 'dev_in', 'download_train.sh', 'visualize.py', 'baseline', 'mrqa_official_eval.py', 'README.md', 'download_in_domain_dev.sh', 'dataset', 'requirements.txt']\n",
      "['SQuAD.jsonl.gz', 'HotpotQA.jsonl.gz', 'SearchQA.jsonl.gz', 'TriviaQA.jsonl.gz', 'NaturalQuestions.jsonl.gz', 'NewsQA.jsonl.gz']\n"
     ]
    }
   ],
   "source": [
    "MRQA_path = '../MRQA-Shared-Task-2019'\n",
    "fnames = os.listdir(join(MRQA_path, 'dev_in'))\n",
    "print(os.listdir(MRQA_path))\n",
    "print(fnames)"
   ]
  },
  {
   "cell_type": "code",
   "execution_count": 3,
   "metadata": {},
   "outputs": [
    {
     "name": "stdout",
     "output_type": "stream",
     "text": [
      "../MRQA-Shared-Task-2019/dev_in/SQuAD.jsonl.gz\n"
     ]
    }
   ],
   "source": [
    "fpath = join(MRQA_path, 'dev_in', fnames[0])\n",
    "print(fpath)"
   ]
  },
  {
   "cell_type": "markdown",
   "metadata": {},
   "source": [
    "## FGC format"
   ]
  },
  {
   "cell_type": "code",
   "execution_count": 4,
   "metadata": {},
   "outputs": [
    {
     "name": "stdout",
     "output_type": "stream",
     "text": [
      "dict_keys(['QUESTIONS', 'DTEXT', 'DID'])\n"
     ]
    },
    {
     "data": {
      "text/plain": [
       "{'QUESTIONS': [{'ANSWER': [{'ATEXT': '很认真',\n",
       "     'ATOKEN': [{'text': '很认真', 'start': 201}]}],\n",
       "   'QTYPE': '基础题',\n",
       "   'ASPAN': [{'text': '很认真', 'end': 204, 'start': 201}],\n",
       "   'QTEXT': '乔治做事的态度怎么样？',\n",
       "   'SHINT': [{'text': '他在学校，每一件事都很认真的学，也很尽力的做，所以很快就和班上同学打成一片了',\n",
       "     'end': 229,\n",
       "     'start': 191}],\n",
       "   'ATYPE': '',\n",
       "   'QID': '5811-1',\n",
       "   'AMODE': 'Single-Span-Extraction'}],\n",
       " 'DTEXT': '○月○日星期○天气晴今天早上，老师带了一位新同学来班上。听说他从小就到美国去了，这次是回来学中文的，他一来，便引起班上的注意。这位同学名叫王士均，英文名字叫乔治，因为大家都不太会念英语，有的人还念成「救济」，但他不但不生气，还一直说：「没关系！没关系！」乔治的中文虽然不太灵光，不过他的体育却很好，赛跑的时候，一口气赢了好几个赛跑健将呢！其他像篮球、躲避球等球类，他也有很好的表现。他在学校，每一件事都很认真的学，也很尽力的做，所以很快就和班上同学打成一片了。我很少跟他说话，只有一次我在洗手时，不小心溅到他，我连忙对他说：「对不起！」他还是一脸和气的说：「没关系！」乔治好像明年暑假还要回美国去，希望在他还没回去以前，能有机会和他成为好朋友。',\n",
       " 'DID': '5811'}"
      ]
     },
     "execution_count": 4,
     "metadata": {},
     "output_type": "execute_result"
    }
   ],
   "source": [
    "fgc_data = json.load(open('../dataset/Lee_dev.json'))\n",
    "PQA = fgc_data[0]\n",
    "print(PQA.keys())\n",
    "PQA"
   ]
  },
  {
   "cell_type": "code",
   "execution_count": 5,
   "metadata": {},
   "outputs": [
    {
     "name": "stdout",
     "output_type": "stream",
     "text": [
      "dict_keys(['ANSWER', 'QTYPE', 'ASPAN', 'QTEXT', 'SHINT', 'ATYPE', 'QID', 'AMODE'])\n"
     ]
    },
    {
     "data": {
      "text/plain": [
       "{'ANSWER': [{'ATEXT': '很认真', 'ATOKEN': [{'text': '很认真', 'start': 201}]}],\n",
       " 'QTYPE': '基础题',\n",
       " 'ASPAN': [{'text': '很认真', 'end': 204, 'start': 201}],\n",
       " 'QTEXT': '乔治做事的态度怎么样？',\n",
       " 'SHINT': [{'text': '他在学校，每一件事都很认真的学，也很尽力的做，所以很快就和班上同学打成一片了',\n",
       "   'end': 229,\n",
       "   'start': 191}],\n",
       " 'ATYPE': '',\n",
       " 'QID': '5811-1',\n",
       " 'AMODE': 'Single-Span-Extraction'}"
      ]
     },
     "execution_count": 5,
     "metadata": {},
     "output_type": "execute_result"
    }
   ],
   "source": [
    "QA = PQA['QUESTIONS'][0]\n",
    "print(QA.keys())\n",
    "QA"
   ]
  },
  {
   "cell_type": "markdown",
   "metadata": {},
   "source": [
    "## MRQA format"
   ]
  },
  {
   "cell_type": "code",
   "execution_count": 6,
   "metadata": {},
   "outputs": [
    {
     "name": "stdout",
     "output_type": "stream",
     "text": [
      "{'header': {'dataset': 'SQuAD', 'split': 'dev'}}\n",
      "dict_keys(['id', 'context', 'qas', 'context_tokens'])\n",
      "dict_keys(['answers', 'question', 'id', 'qid', 'question_tokens', 'detected_answers'])\n",
      "dict_keys(['text', 'char_spans', 'token_spans'])\n"
     ]
    }
   ],
   "source": [
    "with gzip.open(fpath) as f:\n",
    "    jsonl_data = f.readlines()\n",
    "data_info = json.loads(jsonl_data[0])\n",
    "split = data_info['header']['split']\n",
    "\n",
    "PQA = json.loads(jsonl_data[1])\n",
    "QA = PQA['qas'][0]\n",
    "As = QA['detected_answers']\n",
    "\n",
    "print(data_info)\n",
    "print(PQA.keys())\n",
    "print(QA.keys())\n",
    "print(As[0].keys())"
   ]
  },
  {
   "cell_type": "code",
   "execution_count": 7,
   "metadata": {},
   "outputs": [
    {
     "data": {
      "text/plain": [
       "{'DID': 'dev-1',\n",
       " 'DTEXT': 'Super Bowl 50 was an American football game to determine the champion of the National Football League (NFL) for the 2015 season. The American Football Conference (AFC) champion Denver Broncos defeated the National Football Conference (NFC) champion Carolina Panthers 24–10 to earn their third Super Bowl title. The game was played on February 7, 2016, at Levi\\'s Stadium in the San Francisco Bay Area at Santa Clara, California. As this was the 50th Super Bowl, the league emphasized the \"golden anniversary\" with various gold-themed initiatives, as well as temporarily suspending the tradition of naming each Super Bowl game with Roman numerals (under which the game would have been known as \"Super Bowl L\"), so that the logo could prominently feature the Arabic numerals 50.',\n",
       " 'QUESTIONS': []}"
      ]
     },
     "execution_count": 7,
     "metadata": {},
     "output_type": "execute_result"
    }
   ],
   "source": [
    "# Outer PQA\n",
    "new_PQA = {}   # FGC format\n",
    "\n",
    "di = 1\n",
    "DID = '%s-%d' % (split, di)\n",
    "DTEXT = PQA['context']\n",
    "\n",
    "new_PQA['DID'] = DID\n",
    "new_PQA['DTEXT'] =  DTEXT\n",
    "new_PQA['QUESTIONS'] = []\n",
    "new_PQA"
   ]
  },
  {
   "cell_type": "code",
   "execution_count": 8,
   "metadata": {},
   "outputs": [
    {
     "data": {
      "text/plain": [
       "{'AMODE': 'Single-Span-Extraction',\n",
       " 'ATYPE': '',\n",
       " 'QID': 'dev-1-1',\n",
       " 'QTEXT': 'Which NFL team represented the AFC at Super Bowl 50?'}"
      ]
     },
     "execution_count": 8,
     "metadata": {},
     "output_type": "execute_result"
    }
   ],
   "source": [
    "# Middle QA\n",
    "new_QA = {'AMODE': 'Single-Span-Extraction', 'ATYPE': ''}\n",
    "\n",
    "qi = 1\n",
    "QID = '%s-%d' % (DID, qi)\n",
    "QTEXT = QA['question']\n",
    "\n",
    "new_QA['QID'] = QID\n",
    "new_QA['QTEXT'] = QTEXT\n",
    "new_QA"
   ]
  },
  {
   "cell_type": "code",
   "execution_count": 20,
   "metadata": {},
   "outputs": [
    {
     "name": "stdout",
     "output_type": "stream",
     "text": [
      "[{'ATEXT': 'Denver Broncos', 'ATOKEN': [{'text': 'Denver Broncos', 'start': 177}]}]\n",
      "[{'text': 'Denver Broncos', 'start': 177, 'end': 190}]\n"
     ]
    }
   ],
   "source": [
    "# Inner A\n",
    "answer_map = {}\n",
    "new_ANSWER = []\n",
    "new_ASPAN = []\n",
    "\n",
    "for A in As:\n",
    "    ATEXT = A['text']\n",
    "    start = A['char_spans'][0][0]\n",
    "    end = A['char_spans'][0][1]\n",
    "    \n",
    "    # ANSWER\n",
    "    if ATEXT not in answer_map:\n",
    "        answer_map[ATEXT] = len(answer_map)\n",
    "        new_ANSWER.append({'ATEXT': ATEXT, 'ATOKEN': [{'text': ATEXT, 'start': start}]})\n",
    "    else:\n",
    "        ai = answer_map[ATEXT]\n",
    "        answer_info = {'text': ATEXT, 'start': start}\n",
    "        if answer_info not in new_ANSWER[ai]['ATOKEN']:\n",
    "            new_ANSWER[ai]['ATOKEN'].append(answer_info)\n",
    "            \n",
    "    # ASPAN\n",
    "    aspan_info = {'text': ATEXT, 'start': start, 'end': end}\n",
    "    if aspan_info not in new_ASPAN:\n",
    "        new_ASPAN.append(aspan_info)\n",
    "\n",
    "new_QA['ANSWER'] = new_ANSWER\n",
    "new_QA['ASPAN'] = new_ASPAN\n",
    "\n",
    "print(new_ANSWER)\n",
    "print(new_ASPAN)"
   ]
  },
  {
   "cell_type": "code",
   "execution_count": 22,
   "metadata": {},
   "outputs": [
    {
     "data": {
      "text/plain": [
       "{'DID': 'dev-1',\n",
       " 'DTEXT': 'Super Bowl 50 was an American football game to determine the champion of the National Football League (NFL) for the 2015 season. The American Football Conference (AFC) champion Denver Broncos defeated the National Football Conference (NFC) champion Carolina Panthers 24–10 to earn their third Super Bowl title. The game was played on February 7, 2016, at Levi\\'s Stadium in the San Francisco Bay Area at Santa Clara, California. As this was the 50th Super Bowl, the league emphasized the \"golden anniversary\" with various gold-themed initiatives, as well as temporarily suspending the tradition of naming each Super Bowl game with Roman numerals (under which the game would have been known as \"Super Bowl L\"), so that the logo could prominently feature the Arabic numerals 50.',\n",
       " 'QUESTIONS': [{'AMODE': 'Single-Span-Extraction',\n",
       "   'ATYPE': '',\n",
       "   'QID': 'dev-1-1',\n",
       "   'QTEXT': 'Which NFL team represented the AFC at Super Bowl 50?',\n",
       "   'ANSWER': [{'ATEXT': 'Denver Broncos',\n",
       "     'ATOKEN': [{'text': 'Denver Broncos', 'start': 177}]}],\n",
       "   'ASPAN': [{'text': 'Denver Broncos', 'start': 177, 'end': 190}]}]}"
      ]
     },
     "execution_count": 22,
     "metadata": {},
     "output_type": "execute_result"
    }
   ],
   "source": [
    "new_PQA['QUESTIONS'].append(new_QA)\n",
    "new_PQA"
   ]
  }
 ],
 "metadata": {
  "kernelspec": {
   "display_name": "Python 3.6",
   "language": "python",
   "name": "python36"
  },
  "language_info": {
   "codemirror_mode": {
    "name": "ipython",
    "version": 3
   },
   "file_extension": ".py",
   "mimetype": "text/x-python",
   "name": "python",
   "nbconvert_exporter": "python",
   "pygments_lexer": "ipython3",
   "version": "3.6.9"
  }
 },
 "nbformat": 4,
 "nbformat_minor": 4
}
